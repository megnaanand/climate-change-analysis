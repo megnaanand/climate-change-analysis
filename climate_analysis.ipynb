{
  "cells": [
    {
      "cell_type": "markdown",
      "metadata": {
        "colab_type": "text",
        "id": "view-in-github"
      },
      "source": [
        "<a href=\"https://colab.research.google.com/github/megnaanand/climate-change-analysis/blob/main/climate_analysis.ipynb\" target=\"_parent\"><img src=\"https://colab.research.google.com/assets/colab-badge.svg\" alt=\"Open In Colab\"/></a>"
      ]
    },
    {
      "cell_type": "code",
      "execution_count": 46,
      "metadata": {},
      "outputs": [],
      "source": [
        "import pandas as pd"
      ]
    },
    {
      "cell_type": "markdown",
      "metadata": {
        "id": "erJNzu1hoKxz"
      },
      "source": [
        "## 1. Introduction\n",
        "\n",
        "This data exploration and inference project aims to uncover correlations between environmental changes and a global rise in temperatures over the years 1880 to 2020, utilizing datasets provided by NASA Climate Change."
      ]
    },
    {
      "cell_type": "markdown",
      "metadata": {},
      "source": [
        "### 1.1. Project Overview\n",
        "Briefly describe the project's goals and significance."
      ]
    },
    {
      "cell_type": "markdown",
      "metadata": {},
      "source": [
        "### 1.2. Scope of the Project\n",
        "Define the specific aspects of climate change being studied."
      ]
    },
    {
      "cell_type": "markdown",
      "metadata": {},
      "source": [
        "### 1.3. Data Sources\n",
        "Introduce NASA datasets being used (CO2 and Methane levels, Global Temperature, etc.).\n"
      ]
    },
    {
      "cell_type": "markdown",
      "metadata": {},
      "source": [
        "### 1.4. Importance of the Study\n",
        "Discuss the relevance of understanding climate change indicators."
      ]
    },
    {
      "cell_type": "markdown",
      "metadata": {
        "id": "u0X9JIQopgXR"
      },
      "source": [
        "## 2. Data Collection and Preprocessing\n",
        " We will be using  information about global Carbon Dioxide and Methane levels, Global Temperature, Ocean Warming, Ice Sheets Sea Levels, and Arctic Sea Ice levels.\n"
      ]
    },
    {
      "cell_type": "markdown",
      "metadata": {},
      "source": [
        "### 2.1. Data Collection\n",
        "Load the datasets from NASA\n"
      ]
    },
    {
      "cell_type": "code",
      "execution_count": 23,
      "metadata": {},
      "outputs": [
        {
          "name": "stdout",
          "output_type": "stream",
          "text": [
            "     TIME(year.decimal)  Antarctic-mass(Gigatonnes)  \\\n",
            "0               2002.29                        0.00   \n",
            "1               2002.35                       18.50   \n",
            "2               2002.62                      -60.48   \n",
            "3               2002.71                       44.62   \n",
            "4               2002.79                       61.76   \n",
            "..                  ...                         ...   \n",
            "217             2023.12                    -2460.45   \n",
            "218             2023.20                    -2362.12   \n",
            "219             2023.29                    -2151.29   \n",
            "220             2023.37                    -2297.35   \n",
            "221             2023.45                    -2298.12   \n",
            "\n",
            "     Antarctic-mass-1-sigma-uncertainty(Gigatonnes)  \n",
            "0                                            178.90  \n",
            "1                                            102.47  \n",
            "2                                             83.09  \n",
            "3                                             97.19  \n",
            "4                                             61.82  \n",
            "..                                              ...  \n",
            "217                                           33.76  \n",
            "218                                           39.74  \n",
            "219                                           46.66  \n",
            "220                                           54.98  \n",
            "221                                           64.28  \n",
            "\n",
            "[222 rows x 3 columns]\n"
          ]
        }
      ],
      "source": [
        "df_ice_sheets = pd.read_csv(\"data/ice_sheets.txt\", delim_whitespace=True)\n",
        "print(df_ice_sheets)\n"
      ]
    },
    {
      "cell_type": "code",
      "execution_count": 31,
      "metadata": {},
      "outputs": [
        {
          "name": "stdout",
          "output_type": "stream",
          "text": [
            "        # decimal    monthly de-season   #days st.dev   unc.     of\n",
            "0       #    date    average    alized      of   days    mon   mean\n",
            "1    1958       3  1958.2027    315.70  314.43     -1  -9.99  -0.99\n",
            "2    1958       4  1958.2877    317.45  315.16     -1  -9.99  -0.99\n",
            "3    1958       5  1958.3699    317.51  314.71     -1  -9.99  -0.99\n",
            "4    1958       6  1958.4548    317.24  315.14     -1  -9.99  -0.99\n",
            "..    ...     ...        ...       ...     ...    ...    ...    ...\n",
            "784  2023       6  2023.4583    423.68  421.22     29   0.57   0.20\n",
            "785  2023       7  2023.5417    421.83  421.45     21   0.48   0.20\n",
            "786  2023       8  2023.6250    419.68  421.55     21   0.45   0.19\n",
            "787  2023       9  2023.7083    418.51  421.94     18   0.30   0.14\n",
            "788  2023      10  2023.7917    418.82  422.17     27   0.44   0.16\n",
            "\n",
            "[789 rows x 8 columns]\n"
          ]
        }
      ],
      "source": [
        "df_c02_levels = pd.read_csv(\"data/c02_levels.txt\", delim_whitespace=True)\n",
        "print(df_c02_levels)"
      ]
    },
    {
      "cell_type": "code",
      "execution_count": 26,
      "metadata": {},
      "outputs": [
        {
          "name": "stdout",
          "output_type": "stream",
          "text": [
            "     Year  No_Smoothing  Lowess(5)\n",
            "0    1880         -0.17      -0.10\n",
            "1    1881         -0.09      -0.13\n",
            "2    1882         -0.11      -0.17\n",
            "3    1883         -0.18      -0.21\n",
            "4    1884         -0.29      -0.24\n",
            "..    ...           ...        ...\n",
            "138  2018          0.85       0.93\n",
            "139  2019          0.97       0.92\n",
            "140  2020          1.01       0.91\n",
            "141  2021          0.84       0.91\n",
            "142  2022          0.89       0.90\n",
            "\n",
            "[143 rows x 3 columns]\n"
          ]
        }
      ],
      "source": [
        "df_global_temperatures = pd.read_csv(\"data/global_temperatures.txt\", delim_whitespace=True)\n",
        "print(df_global_temperatures)"
      ]
    },
    {
      "cell_type": "code",
      "execution_count": 29,
      "metadata": {},
      "outputs": [
        {
          "name": "stdout",
          "output_type": "stream",
          "text": [
            "    year     mean   unc\n",
            "0   1984  1644.85  0.67\n",
            "1   1985  1657.29  0.59\n",
            "2   1986  1670.09  0.74\n",
            "3   1987  1682.70  0.49\n",
            "4   1988  1693.16  0.67\n",
            "5   1989  1704.53  0.55\n",
            "6   1990  1714.43  0.68\n",
            "7   1991  1724.82  0.72\n",
            "8   1992  1735.47  0.57\n",
            "9   1993  1736.50  0.46\n",
            "10  1994  1742.07  0.58\n",
            "11  1995  1748.88  0.48\n",
            "12  1996  1751.28  0.68\n",
            "13  1997  1754.53  0.42\n",
            "14  1998  1765.54  0.64\n",
            "15  1999  1772.34  0.64\n",
            "16  2000  1773.33  0.81\n",
            "17  2001  1771.22  0.59\n",
            "18  2002  1772.66  0.55\n",
            "19  2003  1777.33  0.50\n",
            "20  2004  1777.05  0.50\n",
            "21  2005  1774.16  0.64\n",
            "22  2006  1774.95  0.56\n",
            "23  2007  1781.37  0.63\n",
            "24  2008  1787.01  0.77\n",
            "25  2009  1793.53  0.69\n",
            "26  2010  1798.93  0.73\n",
            "27  2011  1803.14  0.63\n",
            "28  2012  1808.12  0.63\n",
            "29  2013  1813.41  0.66\n",
            "30  2014  1822.57  0.53\n",
            "31  2015  1834.26  0.55\n",
            "32  2016  1843.12  0.68\n",
            "33  2017  1849.58  0.64\n",
            "34  2018  1857.33  0.82\n",
            "35  2019  1866.58  0.60\n",
            "36  2020  1878.93  0.56\n",
            "37  2021  1895.28  0.55\n",
            "38  2022  1911.82  0.78\n"
          ]
        }
      ],
      "source": [
        "df_methane = pd.read_csv(\"data/methane.txt\", delim_whitespace=True)\n",
        "print(df_methane)"
      ]
    },
    {
      "cell_type": "code",
      "execution_count": 32,
      "metadata": {},
      "outputs": [
        {
          "name": "stdout",
          "output_type": "stream",
          "text": [
            "      altimeter_type  merged_file_cycle_#  year_fraction_of_year  \\\n",
            "0                  0                   11            1993.011526   \n",
            "1                  0                   12            1993.038692   \n",
            "2                  0                   13            1993.065858   \n",
            "3                  0                   14            1993.093025   \n",
            "4                  0                   15            1993.120191   \n",
            "...              ...                  ...                    ...   \n",
            "1119               0                 1131            2023.418439   \n",
            "1120               0                 1132            2023.445605   \n",
            "1121               0                 1133            2023.472771   \n",
            "1122               0                 1134            2023.499937   \n",
            "1123               0                 1135            2023.527103   \n",
            "\n",
            "      number_of_observations  number_weighted_observations  GMSL_no_GIA_mm  \\\n",
            "0                     452600                     327401.31          -38.61   \n",
            "1                     447591                     324498.41          -42.01   \n",
            "2                     459462                     333018.19          -41.97   \n",
            "3                     410064                     297483.19          -42.71   \n",
            "4                     446813                     321635.81          -37.88   \n",
            "...                      ...                           ...             ...   \n",
            "1119                  461303                     334333.59           58.03   \n",
            "1120                  464393                     336564.31           56.98   \n",
            "1121                  465431                     337874.50           58.28   \n",
            "1122                  455627                     333369.81           61.86   \n",
            "1123                  462568                     336693.09           64.16   \n",
            "\n",
            "      standard_deviation_GMSL_no_GIA_mm  smoothed_GMSL_no_GIA  GMSL_GIA_mm  \\\n",
            "0                                 89.88                -38.78       -38.61   \n",
            "1                                 90.93                -39.80       -42.00   \n",
            "2                                 87.31                -39.65       -41.96   \n",
            "3                                 90.79                -39.69       -42.69   \n",
            "4                                 90.29                -38.78       -37.85   \n",
            "...                                 ...                   ...          ...   \n",
            "1119                              85.59                 57.49        65.45   \n",
            "1120                              83.78                 58.12        64.38   \n",
            "1121                              83.50                 58.59        65.70   \n",
            "1122                              83.70                 58.93        69.30   \n",
            "1123                              84.27                 59.16        71.56   \n",
            "\n",
            "      standard_deviation_GMSL_GIA_mm  smoothed_GMSL_GIA_mm  \\\n",
            "0                              89.88                -38.78   \n",
            "1                              90.93                -39.80   \n",
            "2                              87.31                -39.64   \n",
            "3                              90.79                -39.67   \n",
            "4                              90.29                -38.75   \n",
            "...                              ...                   ...   \n",
            "1119                           85.63                 64.91   \n",
            "1120                           84.07                 65.53   \n",
            "1121                           83.85                 66.01   \n",
            "1122                           84.04                 66.35   \n",
            "1123                           84.67                 66.58   \n",
            "\n",
            "      smoothed_GMSL_GIA_annual_semi_removed_mm  \\\n",
            "0                                       -38.56   \n",
            "1                                       -39.09   \n",
            "2                                       -38.56   \n",
            "3                                       -38.32   \n",
            "4                                       -37.20   \n",
            "...                                        ...   \n",
            "1119                                     68.88   \n",
            "1120                                     69.30   \n",
            "1121                                     69.36   \n",
            "1122                                     69.07   \n",
            "1123                                     68.48   \n",
            "\n",
            "      smoothed_GMSL_no_GIA_annual_semi_removed_mm  \n",
            "0                                          -38.57  \n",
            "1                                          -39.10  \n",
            "2                                          -38.58  \n",
            "3                                          -38.35  \n",
            "4                                          -37.24  \n",
            "...                                           ...  \n",
            "1119                                        61.47  \n",
            "1120                                        61.89  \n",
            "1121                                        61.95  \n",
            "1122                                        61.66  \n",
            "1123                                        61.07  \n",
            "\n",
            "[1124 rows x 13 columns]\n"
          ]
        }
      ],
      "source": [
        "df_sea_levels = pd.read_csv(\"data/sea_levels.txt\", delim_whitespace=True)\n",
        "print(df_sea_levels)"
      ]
    },
    {
      "cell_type": "code",
      "execution_count": 57,
      "metadata": {},
      "outputs": [
        {
          "name": "stdout",
          "output_type": "stream",
          "text": [
            "                              0\n",
            "1992-01-16 12:00:00    0.000000\n",
            "1992-02-15 12:00:00   -2.448807\n",
            "1992-03-16 12:00:00   -6.903282\n",
            "1992-04-16 00:00:00   -7.749611\n",
            "1992-05-16 12:00:00   -8.800667\n",
            "...                         ...\n",
            "2019-08-16 12:00:00  185.437531\n",
            "2019-09-16 00:00:00  185.978836\n",
            "2019-10-16 12:00:00  187.566727\n",
            "2019-11-16 00:00:00  187.734161\n",
            "2019-12-16 00:00:00  186.917221\n",
            "\n",
            "[336 rows x 1 columns]\n"
          ]
        }
      ],
      "source": [
        "df_ocean_warming = pd.read_json(\"data/ocean_warming.json\", orient='index')\n",
        "\n",
        "print(df_ocean_warming)"
      ]
    },
    {
      "cell_type": "markdown",
      "metadata": {},
      "source": [
        "### 2.2. Data Preprocessing"
      ]
    },
    {
      "cell_type": "markdown",
      "metadata": {},
      "source": [
        "#### 2.2.1. Data Cleaning\n",
        "Handle missing values, outliers, and other inconsistencies"
      ]
    },
    {
      "cell_type": "markdown",
      "metadata": {},
      "source": [
        "#### 2.2.2. Data Transformation\n",
        "Normalize, scale, or transform data as needed for analysis."
      ]
    },
    {
      "cell_type": "markdown",
      "metadata": {},
      "source": [
        "#### 2.2.3. Data Integration\n",
        "Combine different datasets into a cohesive format.\n"
      ]
    },
    {
      "cell_type": "markdown",
      "metadata": {},
      "source": [
        "## 3. Exploratory Data Analysis (EDA)"
      ]
    },
    {
      "cell_type": "markdown",
      "metadata": {},
      "source": [
        "### 3.1. Initial Data Exploration\n",
        "Use basic statistics and visualizations to understand the datasets."
      ]
    },
    {
      "cell_type": "markdown",
      "metadata": {},
      "source": [
        "### 3.2. Correlation Analysis"
      ]
    },
    {
      "cell_type": "markdown",
      "metadata": {},
      "source": [
        "#### 3.2.1. Heatmaps\n",
        "Visualize correlations between different environmental indicators."
      ]
    },
    {
      "cell_type": "markdown",
      "metadata": {},
      "source": [
        "#### 3.2.2. Geographic Heatmaps\n",
        "Show spatial distribution of climate change indicators."
      ]
    },
    {
      "cell_type": "markdown",
      "metadata": {},
      "source": [
        "### 3.3. Time Series Analysis"
      ]
    },
    {
      "cell_type": "markdown",
      "metadata": {},
      "source": [
        "#### 3.3.1. Line Plots\n",
        "Examine trends in temperature and other variables over time."
      ]
    },
    {
      "cell_type": "markdown",
      "metadata": {},
      "source": [
        "#### 3.3.2. Seasonal Analysis\n",
        "Investigate seasonal patterns in the data."
      ]
    },
    {
      "cell_type": "markdown",
      "metadata": {},
      "source": [
        "## 4. Data Visualization and Inference"
      ]
    },
    {
      "cell_type": "markdown",
      "metadata": {},
      "source": [
        "### 4.1. Advanced Data Visualization"
      ]
    },
    {
      "cell_type": "markdown",
      "metadata": {},
      "source": [
        "#### 4.1.1. Interactive Plots\n",
        "Create dynamic plots for more engaging data exploration."
      ]
    },
    {
      "cell_type": "markdown",
      "metadata": {},
      "source": [
        "#### 4.1.2. Comparative Visualizations\n",
        "Compare different indicators side-by-side"
      ]
    },
    {
      "cell_type": "markdown",
      "metadata": {},
      "source": [
        "### 4.2. Inference from Visualizations\n",
        "Draw conclusions from the visualizations created."
      ]
    },
    {
      "cell_type": "markdown",
      "metadata": {},
      "source": [
        "## 5. Predictive Modeling"
      ]
    },
    {
      "cell_type": "markdown",
      "metadata": {},
      "source": [
        "### 5.1. Model Selection\n",
        "Discuss the selection of predictive models"
      ]
    },
    {
      "cell_type": "markdown",
      "metadata": {},
      "source": [
        "### 5.2. Model Training and Validation\n",
        "Train models on historical data and validate their performance."
      ]
    },
    {
      "cell_type": "markdown",
      "metadata": {},
      "source": [
        "### 5.3. Forecasting\n",
        "Use the models to forecast future climate trends based on historical data."
      ]
    },
    {
      "cell_type": "markdown",
      "metadata": {},
      "source": [
        "## 6. Discussion and Insights"
      ]
    },
    {
      "cell_type": "markdown",
      "metadata": {},
      "source": [
        "### 6.1. Key Findings\n",
        "Summarize the major insights gained from the analysis."
      ]
    },
    {
      "cell_type": "markdown",
      "metadata": {},
      "source": [
        "### 6.2. Unexpected Discoveries\n",
        "Highlight any surprising patterns or results."
      ]
    },
    {
      "cell_type": "markdown",
      "metadata": {},
      "source": [
        "### 6.3. Limitations of the Study\n",
        "Acknowledge any limitations in data or methodology."
      ]
    },
    {
      "cell_type": "markdown",
      "metadata": {},
      "source": [
        "## 7. Conclusion and Future Implications"
      ]
    },
    {
      "cell_type": "markdown",
      "metadata": {},
      "source": [
        "### 7.1. Implications of Findings\n",
        "Discuss how your findings impact our understanding of climate change."
      ]
    },
    {
      "cell_type": "markdown",
      "metadata": {},
      "source": [
        "### 7.2. Recommendations for Future Research\n",
        "Suggest areas for further investigation."
      ]
    },
    {
      "cell_type": "markdown",
      "metadata": {},
      "source": [
        "### 7.3. Final Thoughts\n",
        "Restate the importance of the project and its contributions to the field."
      ]
    },
    {
      "cell_type": "markdown",
      "metadata": {},
      "source": [
        "## 8. References"
      ]
    },
    {
      "cell_type": "markdown",
      "metadata": {},
      "source": [
        "### 8.1. Data Sources\n",
        "Cite the NASA datasets and any other sources used."
      ]
    },
    {
      "cell_type": "markdown",
      "metadata": {},
      "source": [
        "### 8.2. Additional Literature\n",
        "Reference any additional literature that supported your analysis"
      ]
    },
    {
      "cell_type": "markdown",
      "metadata": {},
      "source": [
        "## 9. Appendix"
      ]
    },
    {
      "cell_type": "markdown",
      "metadata": {},
      "source": [
        "### 9.1. Additional Data\n",
        "Include any supplementary data or analysis."
      ]
    },
    {
      "cell_type": "markdown",
      "metadata": {},
      "source": [
        "### 9.2. Code Documentation\n",
        "Provide detailed comments and documentation for the code used."
      ]
    },
    {
      "cell_type": "markdown",
      "metadata": {},
      "source": []
    }
  ],
  "metadata": {
    "colab": {
      "authorship_tag": "ABX9TyNLopknv/L/BR4jmPh5m8oP",
      "include_colab_link": true,
      "provenance": []
    },
    "kernelspec": {
      "display_name": "Python 3",
      "name": "python3"
    },
    "language_info": {
      "codemirror_mode": {
        "name": "ipython",
        "version": 3
      },
      "file_extension": ".py",
      "mimetype": "text/x-python",
      "name": "python",
      "nbconvert_exporter": "python",
      "pygments_lexer": "ipython3",
      "version": "3.9.5"
    }
  },
  "nbformat": 4,
  "nbformat_minor": 0
}
