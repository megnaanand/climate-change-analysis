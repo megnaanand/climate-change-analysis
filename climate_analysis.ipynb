{
  "cells": [
    {
      "cell_type": "markdown",
      "metadata": {
        "colab_type": "text",
        "id": "view-in-github"
      },
      "source": [
        "<a href=\"https://colab.research.google.com/github/megnaanand/climate-change-analysis/blob/main/climate_analysis.ipynb\" target=\"_parent\"><img src=\"https://colab.research.google.com/assets/colab-badge.svg\" alt=\"Open In Colab\"/></a>"
      ]
    },
    {
      "cell_type": "code",
      "execution_count": 2,
      "metadata": {},
      "outputs": [],
      "source": [
        "import pandas as pd"
      ]
    },
    {
      "cell_type": "markdown",
      "metadata": {
        "id": "erJNzu1hoKxz"
      },
      "source": [
        "## 1. Introduction\n",
        "\n",
        "This data exploration and inference project aims to uncover correlations between environmental changes and a global rise in temperatures over the years 1880 to 2020, utilizing datasets provided by NASA Climate Change."
      ]
    },
    {
      "cell_type": "markdown",
      "metadata": {},
      "source": [
        "### 1.1. Project Overview\n",
        "Briefly describe the project's goals and significance."
      ]
    },
    {
      "cell_type": "markdown",
      "metadata": {},
      "source": [
        "### 1.2. Scope of the Project\n",
        "Define the specific aspects of climate change being studied."
      ]
    },
    {
      "cell_type": "markdown",
      "metadata": {},
      "source": [
        "### 1.3. Data Sources\n",
        "Introduce NASA datasets being used (CO2 and Methane levels, Global Temperature, etc.).\n"
      ]
    },
    {
      "cell_type": "markdown",
      "metadata": {},
      "source": [
        "### 1.4. Importance of the Study\n",
        "Discuss the relevance of understanding climate change indicators."
      ]
    },
    {
      "cell_type": "markdown",
      "metadata": {
        "id": "u0X9JIQopgXR"
      },
      "source": [
        "## 2. Data Collection and Preprocessing\n",
        " We will be using  information about global Carbon Dioxide and Methane levels, Global Temperature, Ocean Warming, Ice Sheets Sea Levels, and Arctic Sea Ice levels.\n"
      ]
    },
    {
      "cell_type": "markdown",
      "metadata": {},
      "source": [
        "### 2.1. Data Collection\n",
        "Load the datasets from NASA\n"
      ]
    },
    {
      "cell_type": "code",
      "execution_count": 3,
      "metadata": {},
      "outputs": [
        {
          "name": "stdout",
          "output_type": "stream",
          "text": [
            "     TIME(year.decimal)  Antarctic-mass(Gigatonnes)  \\\n",
            "0               2002.29                        0.00   \n",
            "1               2002.35                       18.50   \n",
            "2               2002.62                      -60.48   \n",
            "3               2002.71                       44.62   \n",
            "4               2002.79                       61.76   \n",
            "..                  ...                         ...   \n",
            "217             2023.12                    -2460.45   \n",
            "218             2023.20                    -2362.12   \n",
            "219             2023.29                    -2151.29   \n",
            "220             2023.37                    -2297.35   \n",
            "221             2023.45                    -2298.12   \n",
            "\n",
            "     Antarctic-mass-1-sigma-uncertainty(Gigatonnes)  \n",
            "0                                            178.90  \n",
            "1                                            102.47  \n",
            "2                                             83.09  \n",
            "3                                             97.19  \n",
            "4                                             61.82  \n",
            "..                                              ...  \n",
            "217                                           33.76  \n",
            "218                                           39.74  \n",
            "219                                           46.66  \n",
            "220                                           54.98  \n",
            "221                                           64.28  \n",
            "\n",
            "[222 rows x 3 columns]\n"
          ]
        }
      ],
      "source": [
        "df_ice_sheets = pd.read_csv(\"data/ice_sheets.txt\", delim_whitespace=True)\n",
        "print(df_ice_sheets)\n"
      ]
    },
    {
      "cell_type": "code",
      "execution_count": 4,
      "metadata": {},
      "outputs": [
        {
          "name": "stdout",
          "output_type": "stream",
          "text": [
            "        # decimal    monthly de-season   #days st.dev   unc.     of\n",
            "0       #    date    average    alized      of   days    mon   mean\n",
            "1    1958       3  1958.2027    315.70  314.43     -1  -9.99  -0.99\n",
            "2    1958       4  1958.2877    317.45  315.16     -1  -9.99  -0.99\n",
            "3    1958       5  1958.3699    317.51  314.71     -1  -9.99  -0.99\n",
            "4    1958       6  1958.4548    317.24  315.14     -1  -9.99  -0.99\n",
            "..    ...     ...        ...       ...     ...    ...    ...    ...\n",
            "784  2023       6  2023.4583    423.68  421.22     29   0.57   0.20\n",
            "785  2023       7  2023.5417    421.83  421.45     21   0.48   0.20\n",
            "786  2023       8  2023.6250    419.68  421.55     21   0.45   0.19\n",
            "787  2023       9  2023.7083    418.51  421.94     18   0.30   0.14\n",
            "788  2023      10  2023.7917    418.82  422.17     27   0.44   0.16\n",
            "\n",
            "[789 rows x 8 columns]\n"
          ]
        }
      ],
      "source": [
        "df_c02_levels = pd.read_csv(\"data/c02_levels.txt\", delim_whitespace=True)\n",
        "print(df_c02_levels)"
      ]
    },
    {
      "cell_type": "code",
      "execution_count": 5,
      "metadata": {},
      "outputs": [
        {
          "name": "stdout",
          "output_type": "stream",
          "text": [
            "     Year  No_Smoothing  Lowess(5)\n",
            "0    1880         -0.17      -0.10\n",
            "1    1881         -0.09      -0.13\n",
            "2    1882         -0.11      -0.17\n",
            "3    1883         -0.18      -0.21\n",
            "4    1884         -0.29      -0.24\n",
            "..    ...           ...        ...\n",
            "138  2018          0.85       0.93\n",
            "139  2019          0.97       0.92\n",
            "140  2020          1.01       0.91\n",
            "141  2021          0.84       0.91\n",
            "142  2022          0.89       0.90\n",
            "\n",
            "[143 rows x 3 columns]\n"
          ]
        }
      ],
      "source": [
        "df_global_temperatures = pd.read_csv(\"data/global_temperatures.txt\", delim_whitespace=True)\n",
        "print(df_global_temperatures)"
      ]
    },
    {
      "cell_type": "code",
      "execution_count": 6,
      "metadata": {},
      "outputs": [
        {
          "name": "stdout",
          "output_type": "stream",
          "text": [
            "    year     mean   unc\n",
            "0   1984  1644.85  0.67\n",
            "1   1985  1657.29  0.59\n",
            "2   1986  1670.09  0.74\n",
            "3   1987  1682.70  0.49\n",
            "4   1988  1693.16  0.67\n",
            "5   1989  1704.53  0.55\n",
            "6   1990  1714.43  0.68\n",
            "7   1991  1724.82  0.72\n",
            "8   1992  1735.47  0.57\n",
            "9   1993  1736.50  0.46\n",
            "10  1994  1742.07  0.58\n",
            "11  1995  1748.88  0.48\n",
            "12  1996  1751.28  0.68\n",
            "13  1997  1754.53  0.42\n",
            "14  1998  1765.54  0.64\n",
            "15  1999  1772.34  0.64\n",
            "16  2000  1773.33  0.81\n",
            "17  2001  1771.22  0.59\n",
            "18  2002  1772.66  0.55\n",
            "19  2003  1777.33  0.50\n",
            "20  2004  1777.05  0.50\n",
            "21  2005  1774.16  0.64\n",
            "22  2006  1774.95  0.56\n",
            "23  2007  1781.37  0.63\n",
            "24  2008  1787.01  0.77\n",
            "25  2009  1793.53  0.69\n",
            "26  2010  1798.93  0.73\n",
            "27  2011  1803.14  0.63\n",
            "28  2012  1808.12  0.63\n",
            "29  2013  1813.41  0.66\n",
            "30  2014  1822.57  0.53\n",
            "31  2015  1834.26  0.55\n",
            "32  2016  1843.12  0.68\n",
            "33  2017  1849.58  0.64\n",
            "34  2018  1857.33  0.82\n",
            "35  2019  1866.58  0.60\n",
            "36  2020  1878.93  0.56\n",
            "37  2021  1895.28  0.55\n",
            "38  2022  1911.82  0.78\n"
          ]
        }
      ],
      "source": [
        "df_methane = pd.read_csv(\"data/methane.txt\", delim_whitespace=True)\n",
        "print(df_methane)"
      ]
    },
    {
      "cell_type": "code",
      "execution_count": 7,
      "metadata": {},
      "outputs": [
        {
          "name": "stdout",
          "output_type": "stream",
          "text": [
            "      altimeter_type  merged_file_cycle_#  year_fraction_of_year  \\\n",
            "0                  0                   11            1993.011526   \n",
            "1                  0                   12            1993.038692   \n",
            "2                  0                   13            1993.065858   \n",
            "3                  0                   14            1993.093025   \n",
            "4                  0                   15            1993.120191   \n",
            "...              ...                  ...                    ...   \n",
            "1119               0                 1131            2023.418439   \n",
            "1120               0                 1132            2023.445605   \n",
            "1121               0                 1133            2023.472771   \n",
            "1122               0                 1134            2023.499937   \n",
            "1123               0                 1135            2023.527103   \n",
            "\n",
            "      number_of_observations  number_weighted_observations  GMSL_no_GIA_mm  \\\n",
            "0                     452600                     327401.31          -38.61   \n",
            "1                     447591                     324498.41          -42.01   \n",
            "2                     459462                     333018.19          -41.97   \n",
            "3                     410064                     297483.19          -42.71   \n",
            "4                     446813                     321635.81          -37.88   \n",
            "...                      ...                           ...             ...   \n",
            "1119                  461303                     334333.59           58.03   \n",
            "1120                  464393                     336564.31           56.98   \n",
            "1121                  465431                     337874.50           58.28   \n",
            "1122                  455627                     333369.81           61.86   \n",
            "1123                  462568                     336693.09           64.16   \n",
            "\n",
            "      standard_deviation_GMSL_no_GIA_mm  smoothed_GMSL_no_GIA  GMSL_GIA_mm  \\\n",
            "0                                 89.88                -38.78       -38.61   \n",
            "1                                 90.93                -39.80       -42.00   \n",
            "2                                 87.31                -39.65       -41.96   \n",
            "3                                 90.79                -39.69       -42.69   \n",
            "4                                 90.29                -38.78       -37.85   \n",
            "...                                 ...                   ...          ...   \n",
            "1119                              85.59                 57.49        65.45   \n",
            "1120                              83.78                 58.12        64.38   \n",
            "1121                              83.50                 58.59        65.70   \n",
            "1122                              83.70                 58.93        69.30   \n",
            "1123                              84.27                 59.16        71.56   \n",
            "\n",
            "      standard_deviation_GMSL_GIA_mm  smoothed_GMSL_GIA_mm  \\\n",
            "0                              89.88                -38.78   \n",
            "1                              90.93                -39.80   \n",
            "2                              87.31                -39.64   \n",
            "3                              90.79                -39.67   \n",
            "4                              90.29                -38.75   \n",
            "...                              ...                   ...   \n",
            "1119                           85.63                 64.91   \n",
            "1120                           84.07                 65.53   \n",
            "1121                           83.85                 66.01   \n",
            "1122                           84.04                 66.35   \n",
            "1123                           84.67                 66.58   \n",
            "\n",
            "      smoothed_GMSL_GIA_annual_semi_removed_mm  \\\n",
            "0                                       -38.56   \n",
            "1                                       -39.09   \n",
            "2                                       -38.56   \n",
            "3                                       -38.32   \n",
            "4                                       -37.20   \n",
            "...                                        ...   \n",
            "1119                                     68.88   \n",
            "1120                                     69.30   \n",
            "1121                                     69.36   \n",
            "1122                                     69.07   \n",
            "1123                                     68.48   \n",
            "\n",
            "      smoothed_GMSL_no_GIA_annual_semi_removed_mm  \n",
            "0                                          -38.57  \n",
            "1                                          -39.10  \n",
            "2                                          -38.58  \n",
            "3                                          -38.35  \n",
            "4                                          -37.24  \n",
            "...                                           ...  \n",
            "1119                                        61.47  \n",
            "1120                                        61.89  \n",
            "1121                                        61.95  \n",
            "1122                                        61.66  \n",
            "1123                                        61.07  \n",
            "\n",
            "[1124 rows x 13 columns]\n"
          ]
        }
      ],
      "source": [
        "df_sea_levels = pd.read_csv(\"data/sea_levels.txt\", delim_whitespace=True)\n",
        "print(df_sea_levels)"
      ]
    },
    {
      "cell_type": "code",
      "execution_count": 8,
      "metadata": {},
      "outputs": [
        {
          "name": "stdout",
          "output_type": "stream",
          "text": [
            "                              0\n",
            "1992-01-16 12:00:00    0.000000\n",
            "1992-02-15 12:00:00   -2.448807\n",
            "1992-03-16 12:00:00   -6.903282\n",
            "1992-04-16 00:00:00   -7.749611\n",
            "1992-05-16 12:00:00   -8.800667\n",
            "...                         ...\n",
            "2019-08-16 12:00:00  185.437531\n",
            "2019-09-16 00:00:00  185.978836\n",
            "2019-10-16 12:00:00  187.566727\n",
            "2019-11-16 00:00:00  187.734161\n",
            "2019-12-16 00:00:00  186.917221\n",
            "\n",
            "[336 rows x 1 columns]\n"
          ]
        }
      ],
      "source": [
        "df_ocean_warming = pd.read_json(\"data/ocean_warming.json\", orient='index')\n",
        "\n",
        "print(df_ocean_warming)"
      ]
    },
    {
      "cell_type": "code",
      "execution_count": 11,
      "metadata": {},
      "outputs": [
        {
          "name": "stdout",
          "output_type": "stream",
          "text": [
            "      January  February   March   April     May    June    July  August  \\\n",
            "1978      NaN       NaN     NaN     NaN     NaN     NaN     NaN     NaN   \n",
            "1979   15.414    16.175  16.342  15.447  13.857  12.530  10.311   8.041   \n",
            "1980   14.862    15.955  16.041  15.429  13.793  12.205  10.100   7.984   \n",
            "1981   14.910    15.604  15.632  15.010  13.802  12.430  10.271   7.844   \n",
            "1982   15.177    15.974  16.044  15.466  13.973  12.476  10.367   8.139   \n",
            "1983   14.942    16.006  16.085  15.172  13.491  12.296  10.570   8.186   \n",
            "1984   14.473    15.299  15.584  15.015  13.577  12.152   9.977   7.771   \n",
            "1985   14.725    15.466  15.886  15.357  14.073  12.219   9.744   7.402   \n",
            "1986   14.890    15.785  15.910  15.059  13.379  11.976  10.146   7.979   \n",
            "1987   14.970    16.050  15.816  15.211  13.743  12.486  10.333   7.628   \n",
            "1988      NaN    15.583  15.957  15.123  13.561  11.943   9.809   7.892   \n",
            "1989   14.955    15.495  15.423  14.328  13.044  12.245  10.130   7.882   \n",
            "1990   14.783    15.578  15.867  14.650  13.226  11.641   9.247   6.797   \n",
            "1991   14.364    15.249  15.416  14.860  13.473  12.108   9.514   7.415   \n",
            "1992   14.643    15.462  15.481  14.677  13.216  12.147  10.323   7.925   \n",
            "1993   14.896    15.686  15.813  15.077  13.368  11.871   9.476   7.335   \n",
            "1994   14.730    15.562  15.554  14.888  13.624  12.016   9.925   7.639   \n",
            "1995   14.586    15.226  15.260  14.449  12.972  11.440   8.987   6.744   \n",
            "1996   14.181    15.155  15.123  14.216  13.094  12.084  10.164   8.180   \n",
            "1997   14.417    15.437  15.467  14.563  13.177  11.738   9.411   7.285   \n",
            "1998   14.721    15.746  15.598  14.892  13.590  11.706   9.415   7.509   \n",
            "1999   14.359    15.309  15.398  15.084  13.751  11.779   9.488   7.226   \n",
            "2000   14.220    15.141  15.225  14.558  13.153  11.665   9.513   7.168   \n",
            "2001   14.203    15.211  15.516  14.857  13.510  11.456   9.070   7.461   \n",
            "2002   14.273    15.342  15.349  14.299  12.971  11.583   9.274   6.599   \n",
            "2003   14.391    15.193  15.485  14.512  13.016  11.604   9.215   6.936   \n",
            "2004   14.026    14.914  14.993  13.987  12.558  11.447   9.431   6.855   \n",
            "2005   13.661    14.373  14.687  14.090  12.911  11.162   8.649   6.301   \n",
            "2006   13.466    14.325  14.421  13.906  12.517  10.920   8.460   6.496   \n",
            "2007   13.703    14.513  14.542  13.845  12.780  11.220   7.943   5.342   \n",
            "2008   13.887    14.953  15.179  14.352  12.974  11.208   8.678   5.913   \n",
            "2009   13.914    14.812  14.984  14.496  13.187  11.320   8.465   6.136   \n",
            "2010   13.739    14.581  15.137  14.659  12.866  10.585   8.075   5.875   \n",
            "2011   13.464    14.363  14.546  14.108  12.681  10.749   7.724   5.503   \n",
            "2012   13.729    14.553  15.196  14.626  13.012  10.674   7.672   4.723   \n",
            "2013   13.703    14.723  15.032  14.299  12.997  11.360   8.132   6.014   \n",
            "2014   13.648    14.418  14.758  14.088  12.701  11.033   8.108   6.078   \n",
            "2015   13.602    14.401  14.370  13.893  12.468  10.879   8.378   5.599   \n",
            "2016   13.457    14.203  14.400  13.681  11.924  10.413   7.938   5.371   \n",
            "2017   13.190    14.120  14.290  13.753  12.631  10.756   7.939   5.481   \n",
            "2018   13.077    13.967  14.298  13.696  12.232  10.778   8.268   5.615   \n",
            "2019   13.567    14.394  14.574  13.434  12.186  10.594   7.589   5.026   \n",
            "2020   13.636    14.642  14.730  13.621  12.343  10.593   7.294   5.070   \n",
            "2021   13.501    14.390  14.658  13.792  12.682  10.765   7.647   5.715   \n",
            "2022   13.872    14.612  14.586  13.986  12.879  10.875   8.287   5.950   \n",
            "2023   13.346    14.176  14.440  13.992  12.835  10.963   8.183   5.566   \n",
            "\n",
            "      September  October  November  December  Unnamed: 13  Annual  \n",
            "1978        NaN      NaN    11.645    13.667          NaN  12.673  \n",
            "1979      7.051    8.748    10.943    13.336          NaN  12.328  \n",
            "1980      7.667    9.183    11.383    13.593          NaN  12.337  \n",
            "1981      7.138    8.856    10.929    13.341          NaN  12.127  \n",
            "1982      7.302    9.421    11.627    13.642          NaN  12.447  \n",
            "1983      7.395    9.334    11.461    13.299          NaN  12.332  \n",
            "1984      6.805    8.561    10.842    12.989          NaN  11.910  \n",
            "1985      6.698    8.546    11.025    13.050          NaN  11.995  \n",
            "1986      7.411    9.484    11.453    13.222          NaN  12.203  \n",
            "1987      7.279    9.049    11.224       NaN          NaN  12.135  \n",
            "1988      7.369    9.135    11.331    13.626          NaN  11.923  \n",
            "1989      7.008    8.829    11.115    13.387          NaN  11.967  \n",
            "1990      6.143    8.485    11.075    13.106          NaN  11.694  \n",
            "1991      6.473    8.541    10.885    12.945          NaN  11.749  \n",
            "1992      7.474    9.319    11.379    13.407          NaN  12.110  \n",
            "1993      6.397    8.786    11.319    13.319          NaN  11.923  \n",
            "1994      7.138    8.915    11.123    13.272          NaN  12.011  \n",
            "1995      6.080    7.829    10.761    12.921          NaN  11.415  \n",
            "1996      7.583    9.161    10.402    12.861          NaN  11.841  \n",
            "1997      6.686    8.337    10.684    13.076          NaN  11.668  \n",
            "1998      6.536    8.452    10.441    12.759          NaN  11.757  \n",
            "1999      6.117    8.603    10.796    12.641          NaN  11.691  \n",
            "2000      6.246    8.379    10.321    12.637          NaN  11.508  \n",
            "2001      6.732    8.298    10.658    12.491          NaN  11.600  \n",
            "2002      5.827    8.162    10.342    12.608          NaN  11.363  \n",
            "2003      6.116    7.848    10.125    12.588          NaN  11.397  \n",
            "2004      5.984    7.925    10.343    12.554          NaN  11.240  \n",
            "2005      5.504    7.352    10.216    12.228          NaN  10.907  \n",
            "2006      5.862    7.541     9.659    11.955          NaN  10.773  \n",
            "2007      4.267    6.040     9.760    12.034          NaN  10.474  \n",
            "2008      4.687    7.350    10.343    12.359          NaN  10.978  \n",
            "2009      5.262    6.920     9.772    12.200          NaN  10.932  \n",
            "2010      4.865    6.984     9.614    11.831          NaN  10.711  \n",
            "2011      4.561    6.465     9.772    12.154          NaN  10.483  \n",
            "2012      3.566    5.886     9.388    12.006          NaN  10.406  \n",
            "2013      5.208    7.455     9.939    12.184          NaN  10.897  \n",
            "2014      5.220    7.232    10.115    12.353          NaN  10.790  \n",
            "2015      4.616    6.966     9.846    12.045          NaN  10.566  \n",
            "2016      4.528    6.082     8.658    11.459          NaN  10.163  \n",
            "2017      4.822    6.767     9.493    11.743          NaN  10.393  \n",
            "2018      4.785    6.134     9.823    11.862          NaN  10.355  \n",
            "2019      4.364    5.735     9.353    11.903          NaN  10.201  \n",
            "2020      4.001    5.334     8.985    11.729          NaN  10.150  \n",
            "2021      4.952    6.816     9.830    12.152          NaN  10.552  \n",
            "2022      4.897    6.657     9.725    11.892          NaN  10.661  \n",
            "2023      4.371    6.367       NaN       NaN          NaN  10.393  \n"
          ]
        }
      ],
      "source": [
        "df_arctic_sea_ice = pd.read_excel(\"data/arctic_sea_ice.xlsx\", index_col=0)\n",
        "\n",
        "print(df_arctic_sea_ice)"
      ]
    },
    {
      "cell_type": "code",
      "execution_count": 12,
      "metadata": {},
      "outputs": [
        {
          "name": "stdout",
          "output_type": "stream",
          "text": [
            "       0  Annual  Antarctic-mass(Gigatonnes)  \\\n",
            "0    NaN     NaN                        0.00   \n",
            "1    NaN     NaN                       18.50   \n",
            "2    NaN     NaN                      -60.48   \n",
            "3    NaN     NaN                       44.62   \n",
            "4    NaN     NaN                       61.76   \n",
            "...   ..     ...                         ...   \n",
            "1905 NaN  10.201                         NaN   \n",
            "1906 NaN  10.150                         NaN   \n",
            "1907 NaN  10.552                         NaN   \n",
            "1908 NaN  10.661                         NaN   \n",
            "1909 NaN  10.393                         NaN   \n",
            "\n",
            "      Antarctic-mass-1-sigma-uncertainty(Gigatonnes)   April  August  \\\n",
            "0                                             178.90     NaN     NaN   \n",
            "1                                             102.47     NaN     NaN   \n",
            "2                                              83.09     NaN     NaN   \n",
            "3                                              97.19     NaN     NaN   \n",
            "4                                              61.82     NaN     NaN   \n",
            "...                                              ...     ...     ...   \n",
            "1905                                             NaN  13.434   5.026   \n",
            "1906                                             NaN  13.621   5.070   \n",
            "1907                                             NaN  13.792   5.715   \n",
            "1908                                             NaN  13.986   5.950   \n",
            "1909                                             NaN  13.992   5.566   \n",
            "\n",
            "      December  February  GMSL_GIA_mm  GMSL_no_GIA_mm  ...  \\\n",
            "0          NaN       NaN          NaN             NaN  ...   \n",
            "1          NaN       NaN          NaN             NaN  ...   \n",
            "2          NaN       NaN          NaN             NaN  ...   \n",
            "3          NaN       NaN          NaN             NaN  ...   \n",
            "4          NaN       NaN          NaN             NaN  ...   \n",
            "...        ...       ...          ...             ...  ...   \n",
            "1905    11.903    14.394          NaN             NaN  ...   \n",
            "1906    11.729    14.642          NaN             NaN  ...   \n",
            "1907    12.152    14.390          NaN             NaN  ...   \n",
            "1908    11.892    14.612          NaN             NaN  ...   \n",
            "1909       NaN    14.176          NaN             NaN  ...   \n",
            "\n",
            "      number_weighted_observations  smoothed_GMSL_GIA_annual_semi_removed_mm  \\\n",
            "0                              NaN                                       NaN   \n",
            "1                              NaN                                       NaN   \n",
            "2                              NaN                                       NaN   \n",
            "3                              NaN                                       NaN   \n",
            "4                              NaN                                       NaN   \n",
            "...                            ...                                       ...   \n",
            "1905                           NaN                                       NaN   \n",
            "1906                           NaN                                       NaN   \n",
            "1907                           NaN                                       NaN   \n",
            "1908                           NaN                                       NaN   \n",
            "1909                           NaN                                       NaN   \n",
            "\n",
            "      smoothed_GMSL_GIA_mm  smoothed_GMSL_no_GIA  \\\n",
            "0                      NaN                   NaN   \n",
            "1                      NaN                   NaN   \n",
            "2                      NaN                   NaN   \n",
            "3                      NaN                   NaN   \n",
            "4                      NaN                   NaN   \n",
            "...                    ...                   ...   \n",
            "1905                   NaN                   NaN   \n",
            "1906                   NaN                   NaN   \n",
            "1907                   NaN                   NaN   \n",
            "1908                   NaN                   NaN   \n",
            "1909                   NaN                   NaN   \n",
            "\n",
            "      smoothed_GMSL_no_GIA_annual_semi_removed_mm  \\\n",
            "0                                             NaN   \n",
            "1                                             NaN   \n",
            "2                                             NaN   \n",
            "3                                             NaN   \n",
            "4                                             NaN   \n",
            "...                                           ...   \n",
            "1905                                          NaN   \n",
            "1906                                          NaN   \n",
            "1907                                          NaN   \n",
            "1908                                          NaN   \n",
            "1909                                          NaN   \n",
            "\n",
            "      standard_deviation_GMSL_GIA_mm  standard_deviation_GMSL_no_GIA_mm  unc  \\\n",
            "0                                NaN                                NaN  NaN   \n",
            "1                                NaN                                NaN  NaN   \n",
            "2                                NaN                                NaN  NaN   \n",
            "3                                NaN                                NaN  NaN   \n",
            "4                                NaN                                NaN  NaN   \n",
            "...                              ...                                ...  ...   \n",
            "1905                             NaN                                NaN  NaN   \n",
            "1906                             NaN                                NaN  NaN   \n",
            "1907                             NaN                                NaN  NaN   \n",
            "1908                             NaN                                NaN  NaN   \n",
            "1909                             NaN                                NaN  NaN   \n",
            "\n",
            "      year  year_fraction_of_year  \n",
            "0      NaN                    NaN  \n",
            "1      NaN                    NaN  \n",
            "2      NaN                    NaN  \n",
            "3      NaN                    NaN  \n",
            "4      NaN                    NaN  \n",
            "...    ...                    ...  \n",
            "1905   NaN                    NaN  \n",
            "1906   NaN                    NaN  \n",
            "1907   NaN                    NaN  \n",
            "1908   NaN                    NaN  \n",
            "1909   NaN                    NaN  \n",
            "\n",
            "[1910 rows x 37 columns]\n"
          ]
        }
      ],
      "source": [
        "combined_df = pd.concat([df_ice_sheets, df_global_temperatures, df_methane, df_sea_levels, df_ocean_warming, df_arctic_sea_ice], ignore_index=True)\n",
        "print(combined_df)"
      ]
    },
    {
      "cell_type": "markdown",
      "metadata": {},
      "source": [
        "### 2.2. Data Preprocessing"
      ]
    },
    {
      "cell_type": "markdown",
      "metadata": {},
      "source": [
        "#### 2.2.1. Data Cleaning\n",
        "Handle missing values, outliers, and other inconsistencies"
      ]
    },
    {
      "cell_type": "markdown",
      "metadata": {},
      "source": [
        "#### 2.2.2. Data Transformation\n",
        "Normalize, scale, or transform data as needed for analysis."
      ]
    },
    {
      "cell_type": "markdown",
      "metadata": {},
      "source": [
        "#### 2.2.3. Data Integration\n",
        "Combine different datasets into a cohesive format.\n"
      ]
    },
    {
      "cell_type": "markdown",
      "metadata": {},
      "source": [
        "## 3. Exploratory Data Analysis (EDA)"
      ]
    },
    {
      "cell_type": "markdown",
      "metadata": {},
      "source": [
        "### 3.1. Initial Data Exploration\n",
        "Use basic statistics and visualizations to understand the datasets."
      ]
    },
    {
      "cell_type": "markdown",
      "metadata": {},
      "source": [
        "### 3.2. Correlation Analysis"
      ]
    },
    {
      "cell_type": "markdown",
      "metadata": {},
      "source": [
        "#### 3.2.1. Heatmaps\n",
        "Visualize correlations between different environmental indicators."
      ]
    },
    {
      "cell_type": "markdown",
      "metadata": {},
      "source": [
        "#### 3.2.2. Geographic Heatmaps\n",
        "Show spatial distribution of climate change indicators."
      ]
    },
    {
      "cell_type": "markdown",
      "metadata": {},
      "source": [
        "### 3.3. Time Series Analysis"
      ]
    },
    {
      "cell_type": "markdown",
      "metadata": {},
      "source": [
        "#### 3.3.1. Line Plots\n",
        "Examine trends in temperature and other variables over time."
      ]
    },
    {
      "cell_type": "markdown",
      "metadata": {},
      "source": [
        "#### 3.3.2. Seasonal Analysis\n",
        "Investigate seasonal patterns in the data."
      ]
    },
    {
      "cell_type": "markdown",
      "metadata": {},
      "source": [
        "## 4. Data Visualization and Inference"
      ]
    },
    {
      "cell_type": "markdown",
      "metadata": {},
      "source": [
        "### 4.1. Advanced Data Visualization"
      ]
    },
    {
      "cell_type": "markdown",
      "metadata": {},
      "source": [
        "#### 4.1.1. Interactive Plots\n",
        "Create dynamic plots for more engaging data exploration."
      ]
    },
    {
      "cell_type": "markdown",
      "metadata": {},
      "source": [
        "#### 4.1.2. Comparative Visualizations\n",
        "Compare different indicators side-by-side"
      ]
    },
    {
      "cell_type": "markdown",
      "metadata": {},
      "source": [
        "### 4.2. Inference from Visualizations\n",
        "Draw conclusions from the visualizations created."
      ]
    },
    {
      "cell_type": "markdown",
      "metadata": {},
      "source": [
        "## 5. Predictive Modeling"
      ]
    },
    {
      "cell_type": "markdown",
      "metadata": {},
      "source": [
        "### 5.1. Model Selection\n",
        "Discuss the selection of predictive models"
      ]
    },
    {
      "cell_type": "markdown",
      "metadata": {},
      "source": [
        "### 5.2. Model Training and Validation\n",
        "Train models on historical data and validate their performance."
      ]
    },
    {
      "cell_type": "markdown",
      "metadata": {},
      "source": [
        "### 5.3. Forecasting\n",
        "Use the models to forecast future climate trends based on historical data."
      ]
    },
    {
      "cell_type": "markdown",
      "metadata": {},
      "source": [
        "## 6. Discussion and Insights"
      ]
    },
    {
      "cell_type": "markdown",
      "metadata": {},
      "source": [
        "### 6.1. Key Findings\n",
        "Summarize the major insights gained from the analysis."
      ]
    },
    {
      "cell_type": "markdown",
      "metadata": {},
      "source": [
        "### 6.2. Unexpected Discoveries\n",
        "Highlight any surprising patterns or results."
      ]
    },
    {
      "cell_type": "markdown",
      "metadata": {},
      "source": [
        "### 6.3. Limitations of the Study\n",
        "Acknowledge any limitations in data or methodology."
      ]
    },
    {
      "cell_type": "markdown",
      "metadata": {},
      "source": [
        "## 7. Conclusion and Future Implications"
      ]
    },
    {
      "cell_type": "markdown",
      "metadata": {},
      "source": [
        "### 7.1. Implications of Findings\n",
        "Discuss how your findings impact our understanding of climate change."
      ]
    },
    {
      "cell_type": "markdown",
      "metadata": {},
      "source": [
        "### 7.2. Recommendations for Future Research\n",
        "Suggest areas for further investigation."
      ]
    },
    {
      "cell_type": "markdown",
      "metadata": {},
      "source": [
        "### 7.3. Final Thoughts\n",
        "Restate the importance of the project and its contributions to the field."
      ]
    },
    {
      "cell_type": "markdown",
      "metadata": {},
      "source": [
        "## 8. References"
      ]
    },
    {
      "cell_type": "markdown",
      "metadata": {},
      "source": [
        "### 8.1. Data Sources\n",
        "Cite the NASA datasets and any other sources used."
      ]
    },
    {
      "cell_type": "markdown",
      "metadata": {},
      "source": [
        "### 8.2. Additional Literature\n",
        "Reference any additional literature that supported your analysis"
      ]
    },
    {
      "cell_type": "markdown",
      "metadata": {},
      "source": [
        "## 9. Appendix"
      ]
    },
    {
      "cell_type": "markdown",
      "metadata": {},
      "source": [
        "### 9.1. Additional Data\n",
        "Include any supplementary data or analysis."
      ]
    },
    {
      "cell_type": "markdown",
      "metadata": {},
      "source": [
        "### 9.2. Code Documentation\n",
        "Provide detailed comments and documentation for the code used."
      ]
    },
    {
      "cell_type": "markdown",
      "metadata": {},
      "source": []
    }
  ],
  "metadata": {
    "colab": {
      "authorship_tag": "ABX9TyNLopknv/L/BR4jmPh5m8oP",
      "include_colab_link": true,
      "provenance": []
    },
    "kernelspec": {
      "display_name": "Python 3",
      "name": "python3"
    },
    "language_info": {
      "codemirror_mode": {
        "name": "ipython",
        "version": 3
      },
      "file_extension": ".py",
      "mimetype": "text/x-python",
      "name": "python",
      "nbconvert_exporter": "python",
      "pygments_lexer": "ipython3",
      "version": "3.9.5"
    }
  },
  "nbformat": 4,
  "nbformat_minor": 0
}
